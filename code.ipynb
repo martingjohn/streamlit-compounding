{
 "cells": [
  {
   "cell_type": "code",
   "execution_count": 30,
   "metadata": {},
   "outputs": [],
   "source": [
    "import altair as alt\n",
    "import numpy as np\n",
    "import pandas as pd\n",
    "import streamlit as st\n",
    "import datetime as dt"
   ]
  },
  {
   "cell_type": "markdown",
   "metadata": {},
   "source": [
    "# Impact of high fees on pension pot"
   ]
  },
  {
   "cell_type": "code",
   "execution_count": 31,
   "metadata": {},
   "outputs": [
    {
     "name": "stdout",
     "output_type": "stream",
     "text": [
      "2024\n"
     ]
    }
   ],
   "source": [
    "current_year = dt.datetime.now().year\n",
    "print(current_year)"
   ]
  },
  {
   "cell_type": "code",
   "execution_count": 32,
   "metadata": {},
   "outputs": [],
   "source": [
    "starting_amount=st.number_input(\"Starting amount\",1,1000000,100000)\n",
    "interest_rate=st.number_input(\"Stock market growth\",0,100,10)\n",
    "vanguard_fees=st.number_input(\"Vanguard fees %age\",0.0,100.0,0.14)\n",
    "active_fees=st.number_input(\"Active management fees %age\",0.0,100.0,1.5)\n",
    "number_of_years=st.number_input(\"Number of years\",0,100,40)\n",
    "\n",
    "delta_rate1=1+((interest_rate-vanguard_fees)/100)\n",
    "delta_rate2=1+((interest_rate-active_fees)/100)\n"
   ]
  },
  {
   "cell_type": "code",
   "execution_count": 33,
   "metadata": {},
   "outputs": [
    {
     "data": {
      "text/plain": [
       "DatetimeIndex(['2024-01-01', '2025-01-01', '2026-01-01', '2027-01-01',\n",
       "               '2028-01-01', '2029-01-01', '2030-01-01', '2031-01-01',\n",
       "               '2032-01-01', '2033-01-01', '2034-01-01', '2035-01-01',\n",
       "               '2036-01-01', '2037-01-01', '2038-01-01', '2039-01-01',\n",
       "               '2040-01-01', '2041-01-01', '2042-01-01', '2043-01-01',\n",
       "               '2044-01-01', '2045-01-01', '2046-01-01', '2047-01-01',\n",
       "               '2048-01-01', '2049-01-01', '2050-01-01', '2051-01-01',\n",
       "               '2052-01-01', '2053-01-01', '2054-01-01', '2055-01-01',\n",
       "               '2056-01-01', '2057-01-01', '2058-01-01', '2059-01-01',\n",
       "               '2060-01-01', '2061-01-01', '2062-01-01', '2063-01-01'],\n",
       "              dtype='datetime64[ns]', freq='YS-JAN')"
      ]
     },
     "execution_count": 33,
     "metadata": {},
     "output_type": "execute_result"
    }
   ],
   "source": [
    "year_series=\\\n",
    "    (\n",
    "        pd\n",
    "        .date_range\n",
    "        (\n",
    "            start=str(current_year),\n",
    "            periods=number_of_years,\n",
    "            freq=\"1YS\"\n",
    "        )\n",
    "    )\n",
    "year_series"
   ]
  },
  {
   "cell_type": "code",
   "execution_count": 34,
   "metadata": {},
   "outputs": [
    {
     "data": {
      "text/html": [
       "<div>\n",
       "<style scoped>\n",
       "    .dataframe tbody tr th:only-of-type {\n",
       "        vertical-align: middle;\n",
       "    }\n",
       "\n",
       "    .dataframe tbody tr th {\n",
       "        vertical-align: top;\n",
       "    }\n",
       "\n",
       "    .dataframe thead th {\n",
       "        text-align: right;\n",
       "    }\n",
       "</style>\n",
       "<table border=\"1\" class=\"dataframe\">\n",
       "  <thead>\n",
       "    <tr style=\"text-align: right;\">\n",
       "      <th></th>\n",
       "      <th>year</th>\n",
       "      <th>Year</th>\n",
       "    </tr>\n",
       "  </thead>\n",
       "  <tbody>\n",
       "    <tr>\n",
       "      <th>0</th>\n",
       "      <td>2024-01-01</td>\n",
       "      <td>2024</td>\n",
       "    </tr>\n",
       "    <tr>\n",
       "      <th>1</th>\n",
       "      <td>2025-01-01</td>\n",
       "      <td>2025</td>\n",
       "    </tr>\n",
       "    <tr>\n",
       "      <th>2</th>\n",
       "      <td>2026-01-01</td>\n",
       "      <td>2026</td>\n",
       "    </tr>\n",
       "    <tr>\n",
       "      <th>3</th>\n",
       "      <td>2027-01-01</td>\n",
       "      <td>2027</td>\n",
       "    </tr>\n",
       "    <tr>\n",
       "      <th>4</th>\n",
       "      <td>2028-01-01</td>\n",
       "      <td>2028</td>\n",
       "    </tr>\n",
       "  </tbody>\n",
       "</table>\n",
       "</div>"
      ],
      "text/plain": [
       "        year  Year\n",
       "0 2024-01-01  2024\n",
       "1 2025-01-01  2025\n",
       "2 2026-01-01  2026\n",
       "3 2027-01-01  2027\n",
       "4 2028-01-01  2028"
      ]
     },
     "execution_count": 34,
     "metadata": {},
     "output_type": "execute_result"
    }
   ],
   "source": [
    "df=\\\n",
    "    (\n",
    "        pd\n",
    "        .DataFrame\n",
    "        (\n",
    "            {\n",
    "                \"year\":year_series\n",
    "            }\n",
    "        )   \n",
    "    )\n",
    "\n",
    "df[\"Year\"]=df[\"year\"].dt.strftime(\"%Y\").astype(\"int64\")\n",
    "df.head(5)"
   ]
  },
  {
   "cell_type": "code",
   "execution_count": 38,
   "metadata": {},
   "outputs": [
    {
     "data": {
      "text/html": [
       "<div>\n",
       "<style scoped>\n",
       "    .dataframe tbody tr th:only-of-type {\n",
       "        vertical-align: middle;\n",
       "    }\n",
       "\n",
       "    .dataframe tbody tr th {\n",
       "        vertical-align: top;\n",
       "    }\n",
       "\n",
       "    .dataframe thead th {\n",
       "        text-align: right;\n",
       "    }\n",
       "</style>\n",
       "<table border=\"1\" class=\"dataframe\">\n",
       "  <thead>\n",
       "    <tr style=\"text-align: right;\">\n",
       "      <th></th>\n",
       "      <th>year</th>\n",
       "      <th>Year</th>\n",
       "      <th>Vanguard</th>\n",
       "      <th>Active Management</th>\n",
       "      <th>diff</th>\n",
       "      <th>diff_percent</th>\n",
       "    </tr>\n",
       "  </thead>\n",
       "  <tbody>\n",
       "    <tr>\n",
       "      <th>30</th>\n",
       "      <td>30</td>\n",
       "      <td>2054</td>\n",
       "      <td>1679530.29</td>\n",
       "      <td>1155825.16</td>\n",
       "      <td>523705.13</td>\n",
       "      <td>45.310065</td>\n",
       "    </tr>\n",
       "    <tr>\n",
       "      <th>31</th>\n",
       "      <td>31</td>\n",
       "      <td>2055</td>\n",
       "      <td>1845131.98</td>\n",
       "      <td>1254070.30</td>\n",
       "      <td>591061.68</td>\n",
       "      <td>47.131463</td>\n",
       "    </tr>\n",
       "    <tr>\n",
       "      <th>32</th>\n",
       "      <td>32</td>\n",
       "      <td>2056</td>\n",
       "      <td>2027061.99</td>\n",
       "      <td>1360666.28</td>\n",
       "      <td>666395.71</td>\n",
       "      <td>48.975691</td>\n",
       "    </tr>\n",
       "    <tr>\n",
       "      <th>33</th>\n",
       "      <td>33</td>\n",
       "      <td>2057</td>\n",
       "      <td>2226930.30</td>\n",
       "      <td>1476322.91</td>\n",
       "      <td>750607.39</td>\n",
       "      <td>50.843036</td>\n",
       "    </tr>\n",
       "    <tr>\n",
       "      <th>34</th>\n",
       "      <td>34</td>\n",
       "      <td>2058</td>\n",
       "      <td>2446505.63</td>\n",
       "      <td>1601810.36</td>\n",
       "      <td>844695.27</td>\n",
       "      <td>52.733787</td>\n",
       "    </tr>\n",
       "    <tr>\n",
       "      <th>35</th>\n",
       "      <td>35</td>\n",
       "      <td>2059</td>\n",
       "      <td>2687731.08</td>\n",
       "      <td>1737964.24</td>\n",
       "      <td>949766.84</td>\n",
       "      <td>54.648238</td>\n",
       "    </tr>\n",
       "    <tr>\n",
       "      <th>36</th>\n",
       "      <td>36</td>\n",
       "      <td>2060</td>\n",
       "      <td>2952741.37</td>\n",
       "      <td>1885691.20</td>\n",
       "      <td>1067050.17</td>\n",
       "      <td>56.586687</td>\n",
       "    </tr>\n",
       "    <tr>\n",
       "      <th>37</th>\n",
       "      <td>37</td>\n",
       "      <td>2061</td>\n",
       "      <td>3243881.67</td>\n",
       "      <td>2045974.95</td>\n",
       "      <td>1197906.72</td>\n",
       "      <td>58.549432</td>\n",
       "    </tr>\n",
       "    <tr>\n",
       "      <th>38</th>\n",
       "      <td>38</td>\n",
       "      <td>2062</td>\n",
       "      <td>3563728.40</td>\n",
       "      <td>2219882.82</td>\n",
       "      <td>1343845.58</td>\n",
       "      <td>60.536780</td>\n",
       "    </tr>\n",
       "    <tr>\n",
       "      <th>39</th>\n",
       "      <td>39</td>\n",
       "      <td>2063</td>\n",
       "      <td>3915112.02</td>\n",
       "      <td>2408572.86</td>\n",
       "      <td>1506539.16</td>\n",
       "      <td>62.549038</td>\n",
       "    </tr>\n",
       "  </tbody>\n",
       "</table>\n",
       "</div>"
      ],
      "text/plain": [
       "    year  Year    Vanguard  Active Management        diff  diff_percent\n",
       "30    30  2054  1679530.29         1155825.16   523705.13     45.310065\n",
       "31    31  2055  1845131.98         1254070.30   591061.68     47.131463\n",
       "32    32  2056  2027061.99         1360666.28   666395.71     48.975691\n",
       "33    33  2057  2226930.30         1476322.91   750607.39     50.843036\n",
       "34    34  2058  2446505.63         1601810.36   844695.27     52.733787\n",
       "35    35  2059  2687731.08         1737964.24   949766.84     54.648238\n",
       "36    36  2060  2952741.37         1885691.20  1067050.17     56.586687\n",
       "37    37  2061  3243881.67         2045974.95  1197906.72     58.549432\n",
       "38    38  2062  3563728.40         2219882.82  1343845.58     60.536780\n",
       "39    39  2063  3915112.02         2408572.86  1506539.16     62.549038"
      ]
     },
     "execution_count": 38,
     "metadata": {},
     "output_type": "execute_result"
    }
   ],
   "source": [
    "df[\"year\"]=df[\"Year\"]-current_year\n",
    "df[\"Vanguard\"]=round((starting_amount*(delta_rate1**df[\"year\"])),2)\n",
    "df[\"Active Management\"]=round((starting_amount*(delta_rate2**df[\"year\"])),2)\n",
    "df[\"diff\"]=df[\"Vanguard\"]-df[\"Active Management\"]\n",
    "df[\"diff_percent\"]=(df[\"diff\"]/df[\"Active Management\"])*100\n",
    "df.tail(10)"
   ]
  },
  {
   "cell_type": "code",
   "execution_count": 37,
   "metadata": {},
   "outputs": [
    {
     "data": {
      "text/plain": [
       "39"
      ]
     },
     "execution_count": 37,
     "metadata": {},
     "output_type": "execute_result"
    }
   ],
   "source": [
    "max=df[\"year\"].max()\n",
    "max"
   ]
  },
  {
   "cell_type": "code",
   "execution_count": 74,
   "metadata": {},
   "outputs": [],
   "source": [
    "year=int(df.query('year==@max')[\"Year\"].to_string(index=False))\n",
    "v_amount=float(df.query('year==@max')[\"Vanguard\"].to_string(index=False))\n",
    "a_amount=float(df.query('year==@max')[\"Active Management\"].to_string(index=False))\n",
    "diff=float(df.query('year==@max')[\"diff\"].to_string(index=False))\n",
    "diff_percent=float(df.query('year==@max')[\"diff_percent\"].to_string(index=False))"
   ]
  },
  {
   "cell_type": "code",
   "execution_count": 90,
   "metadata": {},
   "outputs": [
    {
     "name": "stdout",
     "output_type": "stream",
     "text": [
      "After 40 years, using an active fund lost you £1,506,539.16, returning only £2,408,572.86, rather than Vanguard's £3,915,112.02, a difference of 62.55%\n"
     ]
    }
   ],
   "source": [
    "x=\"After {} years, using an active fund lost you £{:,}, returning only £{:,}, rather than Vanguard's £{:,}, a difference of {:.2f}%\".format(max+1,diff,a_amount,v_amount,diff_percent)\n",
    "print(x)"
   ]
  },
  {
   "cell_type": "code",
   "execution_count": null,
   "metadata": {},
   "outputs": [],
   "source": []
  }
 ],
 "metadata": {
  "kernelspec": {
   "display_name": "Python 3",
   "language": "python",
   "name": "python3"
  },
  "language_info": {
   "codemirror_mode": {
    "name": "ipython",
    "version": 3
   },
   "file_extension": ".py",
   "mimetype": "text/x-python",
   "name": "python",
   "nbconvert_exporter": "python",
   "pygments_lexer": "ipython3",
   "version": "3.12.2"
  }
 },
 "nbformat": 4,
 "nbformat_minor": 2
}
